{
 "cells": [
  {
   "cell_type": "markdown",
   "metadata": {},
   "source": [
    "# Testing the Mediapipe handsign recognition"
   ]
  },
  {
   "cell_type": "code",
   "execution_count": 1,
   "metadata": {},
   "outputs": [],
   "source": [
    "import mediapipe as mp\n",
    "import pandas as pd\n",
    "import tensorflow as tf\n",
    "import numpy as np\n",
    "import matplotlib.pyplot as plt\n",
    "import cv2\n",
    "import time as t\n",
    "from PIL import Image\n",
    "from sklearn.model_selection import train_test_split\n",
    "import csv\n",
    "from IPython.display import clear_output"
   ]
  },
  {
   "cell_type": "code",
   "execution_count": 2,
   "metadata": {},
   "outputs": [],
   "source": [
    "model = tf.keras.models.load_model(\"model1.h5\")"
   ]
  },
  {
   "cell_type": "code",
   "execution_count": 3,
   "metadata": {},
   "outputs": [],
   "source": [
    "signs = [\"right\", \"left\", \"up\", \"down\", \"fist\", \"hand\", \"V\"]\n",
    "mp_hands = mp.solutions.hands\n",
    "hands = mp_hands.Hands(max_num_hands=1, min_detection_confidence=0.1, min_tracking_confidence=0.01)\n",
    "drawingModule = mp.solutions.drawing_utils\n",
    "\n",
    "def test(frame):\n",
    "    results = hands.process(frame)\n",
    "        \n",
    "    if results.multi_hand_landmarks: \n",
    "        points = []\n",
    "        for handLandmarks in results.multi_hand_landmarks:\n",
    "            for landmark in handLandmarks.landmark:\n",
    "                x, y, z = landmark.x, landmark.y, landmark.z\n",
    "                points.append(x)\n",
    "                points.append(y)\n",
    "                points.append(z)\n",
    "            drawingModule.draw_landmarks(frame, handLandmarks, mp_hands.HAND_CONNECTIONS)\n",
    "        \n",
    "        return True, np.array(points)\n",
    "       \n",
    "    else: \n",
    "        return False, 0"
   ]
  },
  {
   "cell_type": "code",
   "execution_count": 5,
   "metadata": {},
   "outputs": [],
   "source": [
    "vc = cv2.VideoCapture(0)\n",
    "cv2.namedWindow(\"preview\")\n",
    "\n",
    "while True:\n",
    "    key = cv2.waitKey(20) & 0xFF\n",
    "    rval, frame = vc.read()\n",
    "    if rval == False:\n",
    "        print(233)\n",
    "    bol, res = test(frame)\n",
    "    if bol:\n",
    "        res = np.reshape(res, (1, res.shape[0]))\n",
    "        res = np.argmax(model(res))\n",
    "        cv2.putText(frame, signs[res] ,(250,80), 4,2, (0,0,0),2)\n",
    "        cv2.imshow('preview', frame)\n",
    " \n",
    "    elif key == ord(\" \"): \n",
    "        break\n",
    "\n",
    "    else:\n",
    "        cv2.imshow(\"preview\", frame)\n",
    "\n",
    "cv2.destroyAllWindows()\n",
    "vc.release()\n"
   ]
  },
  {
   "cell_type": "code",
   "execution_count": null,
   "metadata": {},
   "outputs": [],
   "source": []
  }
 ],
 "metadata": {
  "kernelspec": {
   "display_name": "Python 3",
   "language": "python",
   "name": "python3"
  },
  "language_info": {
   "codemirror_mode": {
    "name": "ipython",
    "version": 3
   },
   "file_extension": ".py",
   "mimetype": "text/x-python",
   "name": "python",
   "nbconvert_exporter": "python",
   "pygments_lexer": "ipython3",
   "version": "3.10.11"
  }
 },
 "nbformat": 4,
 "nbformat_minor": 2
}
