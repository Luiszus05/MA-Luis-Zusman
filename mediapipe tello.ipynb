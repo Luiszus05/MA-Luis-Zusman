{
 "cells": [
  {
   "cell_type": "code",
   "execution_count": 1,
   "metadata": {},
   "outputs": [],
   "source": [
    "import mediapipe as mp\n",
    "import pandas as pd\n",
    "import numpy as np\n",
    "import tensorflow as tf\n",
    "import matplotlib.pyplot as plt\n",
    "import cv2\n",
    "import time as t\n",
    "from djitellopy import Tello\n",
    "import threading"
   ]
  },
  {
   "cell_type": "code",
   "execution_count": 2,
   "metadata": {},
   "outputs": [],
   "source": [
    "path = r\"C:\\Users\\Luis\\OneDrive\\Desktop\\Maturaarbeit\\codingMA\\Mediapipe\\model1.h5\"\n",
    "\n",
    "model = tf.keras.models.load_model(path)\n",
    "\n",
    "tello_img = r\"C:\\Users\\Luis\\OneDrive\\Desktop\\Maturaarbeit\\Tello\\Tello_pictures\\ \"\n",
    "num_pic = 0\n",
    "cam_res = (640, 480)\n",
    "\n",
    "signs = [\"right\", \"left\", \"up\", \"down\", \"fist\", \"hand\", \"V\"]\n",
    "\n",
    "mp_hands = mp.solutions.hands\n",
    "hands = mp_hands.Hands(max_num_hands=1, min_detection_confidence=0.5, min_tracking_confidence=0.05)\n",
    "drawingModule = mp.solutions.drawing_utils\n",
    "\n",
    "def get_sign(frame):\n",
    "    results = hands.process(frame)\n",
    "        \n",
    "    if results.multi_hand_landmarks: \n",
    "        points = []\n",
    "        for handLandmarks in results.multi_hand_landmarks:\n",
    "            for landmark in handLandmarks.landmark:\n",
    "                x, y, z = landmark.x, landmark.y, landmark.z\n",
    "                points.append(x)\n",
    "                points.append(y)\n",
    "                points.append(z)\n",
    "            drawingModule.draw_landmarks(frame, handLandmarks, mp_hands.HAND_CONNECTIONS)\n",
    "        \n",
    "        return True, np.array(points)\n",
    "       \n",
    "    else: \n",
    "        return False, 0\n"
   ]
  },
  {
   "cell_type": "code",
   "execution_count": 3,
   "metadata": {},
   "outputs": [
    {
     "name": "stderr",
     "output_type": "stream",
     "text": [
      "[INFO] tello.py - 129 - Tello instance was initialized. Host: '192.168.10.1'. Port: '8889'.\n",
      "[INFO] tello.py - 438 - Send command: 'command'\n",
      "[ERROR] tello.py - 458 - 'utf-8' codec can't decode byte 0xcc in position 0: invalid continuation byte\n",
      "[INFO] tello.py - 438 - Send command: 'command'\n",
      "[INFO] tello.py - 462 - Response command: 'ok'\n",
      "[INFO] tello.py - 438 - Send command: 'streamon'\n",
      "[INFO] tello.py - 462 - Response streamon: 'ok'\n"
     ]
    },
    {
     "name": "stdout",
     "output_type": "stream",
     "text": [
      "Temperature: 10°C\n",
      "Battery: 89%\n"
     ]
    }
   ],
   "source": [
    "tello = Tello()\n",
    "tello.connect()\n",
    "\n",
    "print(\"Temperature: \"+str(round((tello.get_temperature() -32 )* 5/9)) + \"°C\") \n",
    "print(\"Battery: \"+ str(tello.get_battery()) + \"%\")\n",
    "#\n",
    "tello.streamon()\n",
    "frame_read = tello.get_frame_read()\n"
   ]
  },
  {
   "cell_type": "markdown",
   "metadata": {},
   "source": [
    "Nr. 1 (without Threading)"
   ]
  },
  {
   "cell_type": "code",
   "execution_count": 15,
   "metadata": {},
   "outputs": [
    {
     "ename": "KeyboardInterrupt",
     "evalue": "",
     "output_type": "error",
     "traceback": [
      "\u001b[1;31m---------------------------------------------------------------------------\u001b[0m",
      "\u001b[1;31mKeyboardInterrupt\u001b[0m                         Traceback (most recent call last)",
      "Cell \u001b[1;32mIn[15], line 1\u001b[0m\n\u001b[1;32m----> 1\u001b[0m vc \u001b[38;5;241m=\u001b[39m \u001b[43mcv2\u001b[49m\u001b[38;5;241;43m.\u001b[39;49m\u001b[43mVideoCapture\u001b[49m\u001b[43m(\u001b[49m\u001b[38;5;241;43m0\u001b[39;49m\u001b[43m)\u001b[49m\n\u001b[0;32m      2\u001b[0m cv2\u001b[38;5;241m.\u001b[39mnamedWindow(\u001b[38;5;124m\"\u001b[39m\u001b[38;5;124mimg\u001b[39m\u001b[38;5;124m\"\u001b[39m)\n",
      "\u001b[1;31mKeyboardInterrupt\u001b[0m: "
     ]
    }
   ],
   "source": [
    "vc = cv2.VideoCapture(0)\n",
    "cv2.namedWindow(\"img\")"
   ]
  },
  {
   "cell_type": "markdown",
   "metadata": {},
   "source": [
    "### No threading => camera freez"
   ]
  },
  {
   "cell_type": "code",
   "execution_count": null,
   "metadata": {},
   "outputs": [],
   "source": [
    "tello.takeoff()\n",
    "\n",
    "while True:\n",
    "    rval, img = vc.read()\n",
    "    a = np.shape(img)\n",
    "    drone = frame_read.frame\n",
    "    drone =  cv2.cvtColor(drone,cv2.COLOR_BGR2RGB)\n",
    "    drone = cv2.resize(drone, cam_res)\n",
    "    #img = cv2.resize(img, cam_res)\n",
    "    plot = np.concatenate((img, drone), axis=1)\n",
    "    cv2.imshow(\"img\", plot)\n",
    "    \n",
    "    bol, res = get_sign(img)\n",
    "    key = cv2.waitKey(50) & 0xff\n",
    "    if key == ord(\" \"): #emergency\n",
    "        print(\"emergency\")\n",
    "        tello.emergency()\n",
    "        break\n",
    "\n",
    "    elif bol:\n",
    "        res = np.argmax(model(np.reshape(res, (1, res.shape[0]))))               \n",
    "    \n",
    "        if res == 0: #right\n",
    "            tello.move_right(10)\n",
    "\n",
    "        elif res == 1: #left\n",
    "            tello.move_left(10)\n",
    "\n",
    "        elif res == 2: # up\n",
    "            tello.move_up(10)\n",
    "\n",
    "        elif res == 3: # down\n",
    "            tello.move_down(10)\n",
    "\n",
    "        elif res == 4: # fist = vorne\n",
    "            tello.move_forward(10)\n",
    "\n",
    "        elif res == 5: # hand = rückwerts\n",
    "            tello.move_back(10)\n",
    "\n",
    "        elif res == 6: # V = normal landing\n",
    "            tello.rotate_clockwise(10)\n",
    "            #print(\"normal landing\")\n",
    "          #  break\n",
    "\n",
    "print(\"finished\")\n",
    "#tello.land()\n",
    "\n"
   ]
  },
  {
   "cell_type": "markdown",
   "metadata": {},
   "source": [
    "### Nr. 2 (with Threading)"
   ]
  },
  {
   "cell_type": "code",
   "execution_count": 8,
   "metadata": {},
   "outputs": [],
   "source": [
    "global finished\n",
    "global img\n",
    "finished = False\n",
    "img = False, 0\n",
    "\n",
    "# distance in cm 20-500\n",
    "\n",
    "def func():\n",
    "    d = 50\n",
    "    while not finished:\n",
    "        b, frame = img\n",
    "        if b:\n",
    "            bol, res = get_sign(frame)\n",
    "\n",
    "            if bol:\n",
    "                res = np.argmax(model(np.reshape(res, (1, res.shape[0]))))               \n",
    "\n",
    "                if res == 0: #right\n",
    "                    tello.move_right(d)\n",
    "\n",
    "                elif res == 1: #left\n",
    "                    tello.move_left(d)\n",
    "\n",
    "                elif res == 2: # up\n",
    "                    tello.move_up(d)\n",
    "\n",
    "                elif res == 3: # down\n",
    "                    tello.move_down(d)\n",
    "\n",
    "                elif res == 4: # fist = hoch\n",
    "                    tello.move_back(d)\n",
    "\n",
    "                elif res == 5: # hand = runter\n",
    "                    tello.move_forward(d)\n",
    "\n",
    "                elif res == 6: # V = rotate\n",
    "                    tello.rotate_clockwise(30)\n",
    "                    #print(\"normal landing\")\n",
    "                #  break\n",
    "        \n",
    "\n",
    "\n"
   ]
  },
  {
   "cell_type": "code",
   "execution_count": null,
   "metadata": {},
   "outputs": [],
   "source": [
    "tello.takeoff()\n",
    "t1 = threading.Thread(target=func, daemon=True)\n",
    "t1.start()\n",
    "finished = False\n",
    "\n",
    "while not finished:\n",
    "    rval, frame = vc.read()\n",
    "    img = True, frame \n",
    "    key = cv2.waitKey(50) & 0xff\n",
    "    if key == ord(\" \"):\n",
    "            print(\"landing\")\n",
    "            tello.land()\n",
    "            finished =True\n",
    "            t.sleep(1)\n",
    "    elif key == 27: #emergency ESC\n",
    "                print(\"emergency\")\n",
    "                tello.emergency()\n",
    "                finished = True\n",
    "                t.sleep(1)\n",
    "    \n",
    "    drone = frame_read.frame\n",
    "    drone =  cv2.cvtColor(drone,cv2.COLOR_BGR2RGB)\n",
    "    drone = cv2.resize(drone, cam_res)\n",
    "    new = np.concatenate((frame, drone), axis=1)\n",
    "    cv2.imshow(\"img\", new)\n",
    "\n",
    "print(\"finished\")\n",
    "\n"
   ]
  },
  {
   "cell_type": "code",
   "execution_count": 11,
   "metadata": {},
   "outputs": [
    {
     "name": "stderr",
     "output_type": "stream",
     "text": [
      "[INFO] tello.py - 438 - Send command: 'land'\n"
     ]
    }
   ],
   "source": [
    "tello.end()\n",
    "tello.reboot()"
   ]
  },
  {
   "cell_type": "code",
   "execution_count": 6,
   "metadata": {},
   "outputs": [
    {
     "name": "stderr",
     "output_type": "stream",
     "text": [
      "[INFO] tello.py - 438 - Send command: 'land'\n",
      "[INFO] tello.py - 462 - Response land: 'ok'\n"
     ]
    }
   ],
   "source": [
    "tello.land()"
   ]
  },
  {
   "cell_type": "code",
   "execution_count": 17,
   "metadata": {},
   "outputs": [],
   "source": [
    "cv2.destroyAllWindows()\n",
    "vc.release()"
   ]
  },
  {
   "cell_type": "markdown",
   "metadata": {},
   "source": [
    "options"
   ]
  },
  {
   "cell_type": "code",
   "execution_count": null,
   "metadata": {},
   "outputs": [],
   "source": [
    "\n",
    "elif res == 6: # V = foto\n",
    "    print(\"bitte lächeln\")\n",
    "    num_pic += 1\n",
    "    cv2.imwrite(tello_img + \"foto\"+ str(num_pic) + \".jpg\",drone)\n",
    "\n",
    " elif res == 6: # V = normal landing\n",
    "        print(\"normal landing\")\n",
    "        tello.land()\n",
    "        break\n",
    "\n",
    "elif res == 8:\n",
    "    tello.flip(direction=)\n",
    "            "
   ]
  },
  {
   "cell_type": "markdown",
   "metadata": {},
   "source": [
    "better option"
   ]
  },
  {
   "cell_type": "code",
   "execution_count": null,
   "metadata": {},
   "outputs": [],
   "source": [
    "dist = 30 # distance in cm\n",
    "def func():\n",
    "    while not finished:\n",
    "        b, frame = img\n",
    "        if b:\n",
    "            bol, res = get_sign(frame)\n",
    "\n",
    "            if bol:\n",
    "                res = np.argmax(model(np.reshape(res, (1, res.shape[0]))))\n",
    "                if res < 4:\n",
    "                    res = signs[res] # 0 = right, 1 = left, 2 = up, 3 = down, 4 = fist, 5 = hand, 6 = V !!!! müssten noch unbennet werden in: up, down, left, right, forward or back\n",
    "                    tello.move(res,dist )#Tello fly up, down, left, right, forward or back with distance x cm\n",
    "                    \n",
    "                elif res == 6:\n",
    "                    tello.land()"
   ]
  }
 ],
 "metadata": {
  "kernelspec": {
   "display_name": "Python 3",
   "language": "python",
   "name": "python3"
  },
  "language_info": {
   "codemirror_mode": {
    "name": "ipython",
    "version": 3
   },
   "file_extension": ".py",
   "mimetype": "text/x-python",
   "name": "python",
   "nbconvert_exporter": "python",
   "pygments_lexer": "ipython3",
   "version": "3.10.11"
  }
 },
 "nbformat": 4,
 "nbformat_minor": 2
}
